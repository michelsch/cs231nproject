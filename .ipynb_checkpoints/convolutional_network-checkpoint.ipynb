{
 "cells": [
  {
   "cell_type": "code",
   "execution_count": 1,
   "metadata": {
    "collapsed": true
   },
   "outputs": [],
   "source": [
    "# A Convolutional Network implementation example using TensorFlow library.\n",
    "# This example is using the MNIST database of handwritten digits\n",
    "# (http://yann.lecun.com/exdb/mnist/)\n",
    "\n",
    "# Author: Aymeric Damien\n",
    "# Project: https://github.com/aymericdamien/TensorFlow-Examples/"
   ]
  },
  {
   "cell_type": "code",
   "execution_count": 18,
   "metadata": {
    "collapsed": false
   },
   "outputs": [
    {
     "name": "stdout",
     "output_type": "stream",
     "text": [
      "Shapes:  (3980, 3, 150, 150) (3980,)\n",
      "(1000, 3, 150, 150) (200, 3, 150, 150) (200, 3, 150, 150)\n",
      "(1000, 150, 150, 3) (200, 150, 150, 3) (200, 150, 150, 3)\n"
     ]
    }
   ],
   "source": [
    "# Import MINST data\n",
    "import input_data_2\n",
    "mnist = input_data_2.read_data_sets(num_training=1000, num_val=200, num_test=200, one_hot=True)"
   ]
  },
  {
   "cell_type": "code",
   "execution_count": 19,
   "metadata": {
    "collapsed": true
   },
   "outputs": [],
   "source": [
    "import tensorflow as tf"
   ]
  },
  {
   "cell_type": "code",
   "execution_count": 20,
   "metadata": {
    "collapsed": true
   },
   "outputs": [],
   "source": [
    "# Parameters\n",
    "learning_rate = 0.001\n",
    "training_iters = 1000\n",
    "batch_size = 20\n",
    "display_step = 1"
   ]
  },
  {
   "cell_type": "code",
   "execution_count": 21,
   "metadata": {
    "collapsed": true
   },
   "outputs": [],
   "source": [
    "# Network Parameters\n",
    "n_input = 150*150*3 # MNIST data input (img shape: 28*28)\n",
    "n_classes = 4 # MNIST total classes (0-9 digits)\n",
    "dropout = 0.75 # Dropout, probability to keep units"
   ]
  },
  {
   "cell_type": "code",
   "execution_count": 22,
   "metadata": {
    "collapsed": false
   },
   "outputs": [],
   "source": [
    "# tf Graph input\n",
    "x = tf.placeholder(tf.float32, [None, n_input])\n",
    "y = tf.placeholder(tf.float32, [None, n_classes])\n",
    "keep_prob = tf.placeholder(tf.float32) #dropout (keep probability)"
   ]
  },
  {
   "cell_type": "code",
   "execution_count": 23,
   "metadata": {
    "collapsed": true
   },
   "outputs": [],
   "source": [
    "# Create model\n",
    "def conv2d(img, w, b):\n",
    "    return tf.nn.relu(tf.nn.bias_add(tf.nn.conv2d(img, w, strides=[1, 1, 1, 1], \n",
    "                                                  padding='SAME'),b))\n",
    "\n",
    "def max_pool(img, k):\n",
    "    return tf.nn.max_pool(img, ksize=[1, k, k, 1], strides=[1, k, k, 1], padding='SAME')\n",
    "\n",
    "def conv_net(_X, _weights, _biases, _dropout):\n",
    "    # Reshape input picture\n",
    "    _X = tf.reshape(_X, shape=[-1, 150, 150, 3])\n",
    "\n",
    "    # Convolution Layer\n",
    "    conv1 = conv2d(_X, _weights['wc1'], _biases['bc1'])\n",
    "    # Max Pooling (down-sampling)\n",
    "    conv1 = max_pool(conv1, k=2)\n",
    "    # Apply Dropout\n",
    "    conv1 = tf.nn.dropout(conv1, _dropout)\n",
    "\n",
    "    # Convolution Layer\n",
    "    conv2 = conv2d(conv1, _weights['wc2'], _biases['bc2'])\n",
    "    # Max Pooling (down-sampling)\n",
    "    conv2 = max_pool(conv2, k=2)\n",
    "    # Apply Dropout\n",
    "    conv2 = tf.nn.dropout(conv2, _dropout)\n",
    "\n",
    "    # Fully connected layer\n",
    "    # Reshape conv2 output to fit dense layer input\n",
    "    dense1 = tf.reshape(conv2, [-1, _weights['wd1'].get_shape().as_list()[0]]) \n",
    "    # Relu activation\n",
    "    dense1 = tf.nn.relu(tf.add(tf.matmul(dense1, _weights['wd1']), _biases['bd1']))\n",
    "    # Apply Dropout\n",
    "    dense1 = tf.nn.dropout(dense1, _dropout) # Apply Dropout\n",
    "\n",
    "    # Output, class prediction\n",
    "    out = tf.add(tf.matmul(dense1, _weights['out']), _biases['out'])\n",
    "    return out"
   ]
  },
  {
   "cell_type": "code",
   "execution_count": 24,
   "metadata": {
    "collapsed": true
   },
   "outputs": [],
   "source": [
    "# Store layers weight & bias\n",
    "weights = {\n",
    "    # 5x5 conv, 1 input, 32 outputs\n",
    "    'wc1': tf.Variable(tf.random_normal([5, 5, 3, 32])), \n",
    "    # 5x5 conv, 32 inputs, 64 outputs\n",
    "    'wc2': tf.Variable(tf.random_normal([5, 5, 32, 64])), \n",
    "    # fully connected, 7*7*64 inputs, 1024 outputs\n",
    "    'wd1': tf.Variable(tf.random_normal([38*38*64, 1024])), \n",
    "    # 1024 inputs, 10 outputs (class prediction)\n",
    "    'out': tf.Variable(tf.random_normal([1024, n_classes])) \n",
    "}\n",
    "\n",
    "biases = {\n",
    "    'bc1': tf.Variable(tf.random_normal([32])),\n",
    "    'bc2': tf.Variable(tf.random_normal([64])),\n",
    "    'bd1': tf.Variable(tf.random_normal([1024])),\n",
    "    'out': tf.Variable(tf.random_normal([n_classes]))\n",
    "}"
   ]
  },
  {
   "cell_type": "code",
   "execution_count": 25,
   "metadata": {
    "collapsed": true
   },
   "outputs": [],
   "source": [
    "# Construct model\n",
    "pred = conv_net(x, weights, biases, keep_prob)"
   ]
  },
  {
   "cell_type": "code",
   "execution_count": 26,
   "metadata": {
    "collapsed": true
   },
   "outputs": [],
   "source": [
    "# Define loss and optimizer\n",
    "cost = tf.reduce_mean(tf.nn.softmax_cross_entropy_with_logits(pred, y))\n",
    "optimizer = tf.train.AdamOptimizer(learning_rate=learning_rate).minimize(cost)"
   ]
  },
  {
   "cell_type": "code",
   "execution_count": 27,
   "metadata": {
    "collapsed": true
   },
   "outputs": [],
   "source": [
    "# Evaluate model\n",
    "correct_pred = tf.equal(tf.argmax(pred,1), tf.argmax(y,1))\n",
    "accuracy = tf.reduce_mean(tf.cast(correct_pred, tf.float32))"
   ]
  },
  {
   "cell_type": "code",
   "execution_count": 28,
   "metadata": {
    "collapsed": true
   },
   "outputs": [],
   "source": [
    "# Initializing the variables\n",
    "init = tf.initialize_all_variables()"
   ]
  },
  {
   "cell_type": "code",
   "execution_count": 29,
   "metadata": {
    "collapsed": false
   },
   "outputs": [
    {
     "name": "stdout",
     "output_type": "stream",
     "text": [
      "Iter 20, Minibatch Loss= 225362.218750, Training Accuracy= 0.35000\n",
      "Iter 40, Minibatch Loss= 338527.937500, Training Accuracy= 0.25000\n",
      "Iter 60, Minibatch Loss= 176808.828125, Training Accuracy= 0.35000\n",
      "Iter 80, Minibatch Loss= 363405.062500, Training Accuracy= 0.35000\n",
      "Iter 100, Minibatch Loss= 400807.906250, Training Accuracy= 0.45000\n",
      "Iter 120, Minibatch Loss= 138868.796875, Training Accuracy= 0.50000\n",
      "Iter 140, Minibatch Loss= 284460.250000, Training Accuracy= 0.35000\n",
      "Iter 160, Minibatch Loss= 289426.812500, Training Accuracy= 0.40000\n",
      "Iter 180, Minibatch Loss= 325000.062500, Training Accuracy= 0.35000\n",
      "Iter 200, Minibatch Loss= 320467.718750, Training Accuracy= 0.30000\n",
      "Iter 220, Minibatch Loss= 310502.156250, Training Accuracy= 0.25000\n",
      "Iter 240, Minibatch Loss= 155759.968750, Training Accuracy= 0.50000\n",
      "Iter 260, Minibatch Loss= 284352.062500, Training Accuracy= 0.30000\n",
      "Iter 280, Minibatch Loss= 390767.687500, Training Accuracy= 0.40000\n",
      "Iter 300, Minibatch Loss= 370601.312500, Training Accuracy= 0.15000\n",
      "Iter 320, Minibatch Loss= 243472.156250, Training Accuracy= 0.15000\n",
      "Iter 340, Minibatch Loss= 368662.656250, Training Accuracy= 0.10000\n",
      "Iter 360, Minibatch Loss= 406931.312500, Training Accuracy= 0.10000\n",
      "Iter 380, Minibatch Loss= 277228.250000, Training Accuracy= 0.15000\n",
      "Iter 400, Minibatch Loss= 188394.843750, Training Accuracy= 0.40000\n",
      "Iter 420, Minibatch Loss= 213050.375000, Training Accuracy= 0.40000\n",
      "Iter 440, Minibatch Loss= 168287.968750, Training Accuracy= 0.60000\n",
      "Iter 460, Minibatch Loss= 389553.562500, Training Accuracy= 0.30000\n",
      "Iter 480, Minibatch Loss= 277385.406250, Training Accuracy= 0.50000\n",
      "Iter 500, Minibatch Loss= 247266.906250, Training Accuracy= 0.30000\n",
      "Iter 520, Minibatch Loss= 115465.601562, Training Accuracy= 0.30000\n",
      "Iter 540, Minibatch Loss= 152968.093750, Training Accuracy= 0.40000\n",
      "Iter 560, Minibatch Loss= 222145.203125, Training Accuracy= 0.40000\n",
      "Iter 580, Minibatch Loss= 369479.812500, Training Accuracy= 0.30000\n",
      "Iter 600, Minibatch Loss= 327384.562500, Training Accuracy= 0.20000\n",
      "Iter 620, Minibatch Loss= 157997.000000, Training Accuracy= 0.45000\n",
      "Iter 640, Minibatch Loss= 136784.531250, Training Accuracy= 0.40000\n",
      "Iter 660, Minibatch Loss= 91427.296875, Training Accuracy= 0.45000\n",
      "Iter 680, Minibatch Loss= 44899.781250, Training Accuracy= 0.60000\n",
      "Iter 700, Minibatch Loss= 129495.453125, Training Accuracy= 0.45000\n",
      "Iter 720, Minibatch Loss= 127464.023438, Training Accuracy= 0.40000\n",
      "Iter 740, Minibatch Loss= 147188.593750, Training Accuracy= 0.25000\n",
      "Iter 760, Minibatch Loss= 98077.039062, Training Accuracy= 0.35000\n",
      "Iter 780, Minibatch Loss= 115592.476562, Training Accuracy= 0.30000\n",
      "Iter 800, Minibatch Loss= 93442.359375, Training Accuracy= 0.40000\n",
      "Iter 820, Minibatch Loss= 152239.671875, Training Accuracy= 0.30000\n",
      "Iter 840, Minibatch Loss= 131047.421875, Training Accuracy= 0.50000\n",
      "Iter 860, Minibatch Loss= 141446.046875, Training Accuracy= 0.25000\n",
      "Iter 880, Minibatch Loss= 140264.000000, Training Accuracy= 0.50000\n",
      "Iter 900, Minibatch Loss= 139985.875000, Training Accuracy= 0.45000\n",
      "Iter 920, Minibatch Loss= 94852.265625, Training Accuracy= 0.20000\n",
      "Iter 940, Minibatch Loss= 84833.648438, Training Accuracy= 0.35000\n",
      "Iter 960, Minibatch Loss= 99450.515625, Training Accuracy= 0.55000\n",
      "Iter 980, Minibatch Loss= 112585.960938, Training Accuracy= 0.40000\n",
      "Optimization Finished!\n",
      "Testing Accuracy: 0.41\n"
     ]
    }
   ],
   "source": [
    "# Launch the graph\n",
    "with tf.Session() as sess:\n",
    "    sess.run(init)\n",
    "    step = 1\n",
    "    # Keep training until reach max iterations\n",
    "    while step * batch_size < training_iters:\n",
    "        batch_xs, batch_ys = mnist.train.next_batch(batch_size)\n",
    "        # Fit training using batch data\n",
    "        sess.run(optimizer, feed_dict={x: batch_xs, y: batch_ys, keep_prob: dropout})\n",
    "        if step % display_step == 0:\n",
    "            # Calculate batch accuracy\n",
    "            acc = sess.run(accuracy, feed_dict={x: batch_xs, y: batch_ys, keep_prob: 1.})\n",
    "            # Calculate batch loss\n",
    "            loss = sess.run(cost, feed_dict={x: batch_xs, y: batch_ys, keep_prob: 1.})\n",
    "            print \"Iter \" + str(step*batch_size) + \", Minibatch Loss= \" + \\\n",
    "                  \"{:.6f}\".format(loss) + \", Training Accuracy= \" + \"{:.5f}\".format(acc)\n",
    "        step += 1\n",
    "    print \"Optimization Finished!\"\n",
    "    # Calculate accuracy for 256 mnist test images\n",
    "    print \"Testing Accuracy:\", sess.run(accuracy, feed_dict={x: mnist.test.images[:256], \n",
    "                                                             y: mnist.test.labels[:256], \n",
    "                                                             keep_prob: 1.})"
   ]
  },
  {
   "cell_type": "code",
   "execution_count": null,
   "metadata": {
    "collapsed": true
   },
   "outputs": [],
   "source": []
  }
 ],
 "metadata": {
  "kernelspec": {
   "display_name": "Python 2",
   "language": "python",
   "name": "python2"
  },
  "language_info": {
   "codemirror_mode": {
    "name": "ipython",
    "version": 2
   },
   "file_extension": ".py",
   "mimetype": "text/x-python",
   "name": "python",
   "nbconvert_exporter": "python",
   "pygments_lexer": "ipython2",
   "version": "2.7.10"
  }
 },
 "nbformat": 4,
 "nbformat_minor": 0
}
